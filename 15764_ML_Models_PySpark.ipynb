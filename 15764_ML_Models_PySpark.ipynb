{
  "cells": [
    {
      "cell_type": "code",
      "execution_count": 3,
      "metadata": {
        "id": "3epYUfSh3uOZ"
      },
      "outputs": [],
      "source": [
        "from pyspark.sql import SparkSession\n",
        "from pyspark.ml.regression import LinearRegression\n",
        "from pyspark.ml.feature import VectorAssembler, StringIndexer, OneHotEncoder\n",
        "from pyspark.sql.functions import col"
      ]
    },
    {
      "cell_type": "code",
      "execution_count": 4,
      "metadata": {
        "id": "f_j4FDEs36Pn"
      },
      "outputs": [],
      "source": [
        "# Initialize Spark Session\n",
        "spark = SparkSession.builder.appName(\"AirbnbPricePrediction\").getOrCreate()"
      ]
    },
    {
      "cell_type": "code",
      "execution_count": 5,
      "metadata": {
        "id": "pn5yv8bK4FyY"
      },
      "outputs": [],
      "source": [
        "# Load the Data into a Spark DataFrame\n",
        "df = spark.read.csv(\"listings.csv\", header=True, inferSchema=True)"
      ]
    },
    {
      "cell_type": "code",
      "execution_count": 6,
      "metadata": {
        "colab": {
          "base_uri": "https://localhost:8080/"
        },
        "id": "HdjnEDN347Tg",
        "outputId": "3a0e9824-e743-42c2-e1ff-93117f1dab30"
      },
      "outputs": [
        {
          "name": "stdout",
          "output_type": "stream",
          "text": [
            "root\n",
            " |-- id: string (nullable = true)\n",
            " |-- name: string (nullable = true)\n",
            " |-- host_id: string (nullable = true)\n",
            " |-- host_name: string (nullable = true)\n",
            " |-- neighbourhood_group: string (nullable = true)\n",
            " |-- neighbourhood: string (nullable = true)\n",
            " |-- latitude: string (nullable = true)\n",
            " |-- longitude: string (nullable = true)\n",
            " |-- room_type: string (nullable = true)\n",
            " |-- price: string (nullable = true)\n",
            " |-- minimum_nights: integer (nullable = true)\n",
            " |-- number_of_reviews: string (nullable = true)\n",
            " |-- last_review: string (nullable = true)\n",
            " |-- reviews_per_month: string (nullable = true)\n",
            " |-- calculated_host_listings_count: double (nullable = true)\n",
            " |-- availability_365: integer (nullable = true)\n",
            "\n",
            "+----+--------------------+-------+---------+-------------------+--------------+--------+----------+---------------+-----+--------------+-----------------+-----------+-----------------+------------------------------+----------------+\n",
            "|  id|                name|host_id|host_name|neighbourhood_group| neighbourhood|latitude| longitude|      room_type|price|minimum_nights|number_of_reviews|last_review|reviews_per_month|calculated_host_listings_count|availability_365|\n",
            "+----+--------------------+-------+---------+-------------------+--------------+--------+----------+---------------+-----+--------------+-----------------+-----------+-----------------+------------------------------+----------------+\n",
            "|2318|Casa Madrona - Ur...|   2536|    Megan|       Central Area|       Madrona|47.61094|-122.29286|Entire home/apt|  475|            30|               32| 2020-02-01|             0.58|                           2.0|             238|\n",
            "|6606|Fab, private seat...|  14942|    Joyce|Other neighborhoods|   Wallingford|47.65444|-122.33629|Entire home/apt|  102|             2|              153| 2021-07-12|             2.45|                           1.0|              87|\n",
            "|9419|Glorious sun room...|  30559|Angielena|Other neighborhoods|    Georgetown|47.55017|-122.31937|   Private room|   75|             2|              149| 2021-06-28|             1.12|                           9.0|             275|\n",
            "|9531|The Adorable Swee...|  31481|   Cassie|       West Seattle|Fairmount Park|47.55495|-122.38663|Entire home/apt|  165|             5|               45| 2021-05-31|             0.52|                           2.0|             276|\n",
            "|9534|The Coolest Tange...|  31481|   Cassie|       West Seattle|Fairmount Park|47.55627|-122.38607|Entire home/apt|  125|             5|               58| 2021-04-25|             0.58|                           2.0|             311|\n",
            "+----+--------------------+-------+---------+-------------------+--------------+--------+----------+---------------+-----+--------------+-----------------+-----------+-----------------+------------------------------+----------------+\n",
            "only showing top 5 rows\n",
            "\n"
          ]
        }
      ],
      "source": [
        "# Explore the Dataset\n",
        "df.printSchema()\n",
        "df.show(5)"
      ]
    },
    {
      "cell_type": "code",
      "execution_count": 7,
      "metadata": {
        "id": "9YxkYlD05Qoz"
      },
      "outputs": [],
      "source": [
        "# Select relevant columns\n",
        "selected_columns = [\"price\", \"number_of_reviews\", \"availability_365\", \"room_type\"]\n",
        "df_selected = df.select(selected_columns)"
      ]
    },
    {
      "cell_type": "code",
      "execution_count": 8,
      "metadata": {
        "colab": {
          "base_uri": "https://localhost:8080/"
        },
        "id": "PhlHe1yP5WVl",
        "outputId": "1cbd8633-e6c7-45bd-e026-4fcad98d4022"
      },
      "outputs": [
        {
          "name": "stdout",
          "output_type": "stream",
          "text": [
            "+-----+-----------------+----------------+---------------+\n",
            "|price|number_of_reviews|availability_365|      room_type|\n",
            "+-----+-----------------+----------------+---------------+\n",
            "|  475|               32|             238|Entire home/apt|\n",
            "|  102|              153|              87|Entire home/apt|\n",
            "|   75|              149|             275|   Private room|\n",
            "|  165|               45|             276|Entire home/apt|\n",
            "|  125|               58|             311|Entire home/apt|\n",
            "+-----+-----------------+----------------+---------------+\n",
            "only showing top 5 rows\n",
            "\n"
          ]
        }
      ],
      "source": [
        "# Show the selected columns\n",
        "df_selected.show(5)"
      ]
    },
    {
      "cell_type": "markdown",
      "metadata": {},
      "source": [
        "Checking Missing Value Percentage of each column"
      ]
    },
    {
      "cell_type": "code",
      "execution_count": 9,
      "metadata": {
        "colab": {
          "base_uri": "https://localhost:8080/"
        },
        "id": "w38gQJT8EnMC",
        "outputId": "d9468afd-4be1-40ae-9f36-59f9f836804b"
      },
      "outputs": [
        {
          "name": "stdout",
          "output_type": "stream",
          "text": [
            "+-------------------+-------------------+--------------------+-------------------+\n",
            "|              price|  number_of_reviews|    availability_365|          room_type|\n",
            "+-------------------+-------------------+--------------------+-------------------+\n",
            "|9.75609756097561E-4|9.75609756097561E-4|0.001707317073170...|9.75609756097561E-4|\n",
            "+-------------------+-------------------+--------------------+-------------------+\n",
            "\n"
          ]
        }
      ],
      "source": [
        "from pyspark.sql.functions import col, isnan, when, count\n",
        "# Select relevant columns\n",
        "selected_columns = [\"price\", \"number_of_reviews\", \"availability_365\", \"room_type\"]\n",
        "df_selected = df[selected_columns]\n",
        "\n",
        "# Calculate the percentage of missing values for each column\n",
        "missing_percentage = df_selected.select([(count(when(col(c).isNull() | isnan(col(c)), c)) / df_selected.count()).alias(c) for c in df_selected.columns])\n",
        "\n",
        "missing_percentage.show()\n"
      ]
    },
    {
      "cell_type": "markdown",
      "metadata": {},
      "source": [
        "Since Missing Value Percentage is very low , we can remove the missing values..."
      ]
    },
    {
      "cell_type": "code",
      "execution_count": 10,
      "metadata": {
        "id": "nJYqlkBq60W4"
      },
      "outputs": [],
      "source": [
        "from pyspark.sql import SparkSession\n",
        "from pyspark.sql.functions import col, regexp_replace, isnan\n",
        "from pyspark.ml.feature import StringIndexer, OneHotEncoder, VectorAssembler\n",
        "from pyspark.ml import Pipeline\n",
        "from pyspark.ml.regression import LinearRegression\n",
        "from pyspark.ml.evaluation import RegressionEvaluator"
      ]
    },
    {
      "cell_type": "code",
      "execution_count": 11,
      "metadata": {
        "id": "rjZ8ouxV5Ya-"
      },
      "outputs": [],
      "source": [
        "# Clean the Data: Remove rows with missing values and convert price column to numerical type\n",
        "df_cleaned = df_selected.dropna()\n",
        "df_cleaned = df_cleaned.withColumn(\"price\", regexp_replace(col(\"price\"), \"\\\\$\", \"\").cast(\"float\"))\n",
        "# Cleaning the data is crucial for accurate model training. dropna() removes rows with missing values. regexp_replace(col(\"price\"), \"\\\\$\", \"\").cast(\"float\") removes the dollar sign from the price column and converts it to a float type, enabling numerical operations."
      ]
    },
    {
      "cell_type": "code",
      "execution_count": 12,
      "metadata": {
        "id": "46JA2Mkx8OsG"
      },
      "outputs": [],
      "source": [
        "# Filter out rows where price is null or NaN\n",
        "df_cleaned = df_cleaned.filter(col(\"price\").isNotNull() & ~isnan(col(\"price\")))\n",
        "#Any null or NaN values in the target variable (price) can cause issues during model training. This step ensures that all values in the price column are valid numbers."
      ]
    },
    {
      "cell_type": "code",
      "execution_count": 13,
      "metadata": {
        "id": "BDR05F8W7WfI"
      },
      "outputs": [],
      "source": [
        "# Convert number_of_reviews and availability_365 to integer types\n",
        "df_cleaned = df_cleaned.withColumn(\"number_of_reviews\", col(\"number_of_reviews\").cast(\"integer\"))\n",
        "df_cleaned = df_cleaned.withColumn(\"availability_365\", col(\"availability_365\").cast(\"integer\"))\n",
        "#Ensuring that numerical columns are in the correct format (integer or float) is necessary for numerical computations and model training."
      ]
    },
    {
      "cell_type": "code",
      "execution_count": 14,
      "metadata": {
        "id": "jgYfty-l6vTX"
      },
      "outputs": [],
      "source": [
        "\n",
        "# Encode Categorical Variables: StringIndexer and OneHotEncoder for room_type\n",
        "indexer = StringIndexer(inputCol=\"room_type\", outputCol=\"room_type_index\")\n",
        "encoder = OneHotEncoder(inputCol=\"room_type_index\", outputCol=\"room_type_vec\")\n",
        "#Machine learning algorithms require numerical input. StringIndexer converts categorical values to numerical indices, and OneHotEncoder converts these indices to one-hot encoded vectors. This process transforms categorical data into a format suitable for machine learning.\n",
        "pipeline = Pipeline(stages=[indexer, encoder])\n",
        "df_encoded = pipeline.fit(df_cleaned).transform(df_cleaned)\n"
      ]
    },
    {
      "cell_type": "code",
      "execution_count": 15,
      "metadata": {
        "id": "7nKbyAiv6-zw"
      },
      "outputs": [],
      "source": [
        "# Assemble features into a single vector\n",
        "assembler = VectorAssembler(inputCols=[\"number_of_reviews\", \"availability_365\", \"room_type_vec\"], outputCol=\"features\")\n",
        "df_final = assembler.transform(df_encoded).select(\"features\", \"price\")\n",
        "#\"VectorAssembler\" combines multiple columns into a single vector column called features. This step is essential as most machine learning algorithms in Spark expect the input data to be in this format.\n"
      ]
    },
    {
      "cell_type": "code",
      "execution_count": 16,
      "metadata": {
        "id": "vBNy-Pwp7CFs"
      },
      "outputs": [],
      "source": [
        "# Split the data into training and test sets\n",
        "train_data, test_data = df_final.randomSplit([0.8, 0.2], seed=1234)"
      ]
    },
    {
      "cell_type": "markdown",
      "metadata": {},
      "source": [
        "Linear Regression Model"
      ]
    },
    {
      "cell_type": "code",
      "execution_count": 17,
      "metadata": {
        "id": "GXXmjl6G7m8p"
      },
      "outputs": [],
      "source": [
        "# Fit a Machine Learning Model to Predict Price\n",
        "lr = LinearRegression(featuresCol=\"features\", labelCol=\"price\")\n",
        "lr_model = lr.fit(train_data)"
      ]
    },
    {
      "cell_type": "code",
      "execution_count": 18,
      "metadata": {
        "id": "t28pWCXZ7rNh"
      },
      "outputs": [],
      "source": [
        "# Evaluate the Model using Test Data\n",
        "predictions = lr_model.transform(test_data)\n",
        "# Initialize RegressionEvaluator\n",
        "evaluator = RegressionEvaluator(labelCol=\"price\", predictionCol=\"prediction\", metricName=\"rmse\")\n",
        "rmse = evaluator.evaluate(predictions)\n",
        "#\"RegressionEvaluator\" is used to evaluate the performance of regression models. Here, we use RMSE (Root Mean Squared Error) as the metric to measure the accuracy of our models."
      ]
    },
    {
      "cell_type": "code",
      "execution_count": 19,
      "metadata": {
        "colab": {
          "base_uri": "https://localhost:8080/"
        },
        "id": "T9t38kHf857B",
        "outputId": "3d2b978d-03b0-4261-ccde-fb80acbf8a42"
      },
      "outputs": [
        {
          "name": "stdout",
          "output_type": "stream",
          "text": [
            "Root Mean Squared Error (RMSE) on test data: 114.20545932687672\n"
          ]
        }
      ],
      "source": [
        "print(f\"Root Mean Squared Error (RMSE) on test data: {rmse}\")"
      ]
    },
    {
      "cell_type": "code",
      "execution_count": 20,
      "metadata": {
        "id": "riiB3wNG89Ee"
      },
      "outputs": [],
      "source": [
        "from pyspark.sql import SparkSession\n",
        "from pyspark.sql.functions import col, regexp_replace, isnan\n",
        "from pyspark.ml.feature import StringIndexer, OneHotEncoder, VectorAssembler\n",
        "from pyspark.ml import Pipeline\n",
        "from pyspark.ml.regression import LinearRegression, DecisionTreeRegressor, RandomForestRegressor, GBTRegressor\n",
        "from pyspark.ml.evaluation import RegressionEvaluator"
      ]
    },
    {
      "cell_type": "markdown",
      "metadata": {},
      "source": [
        "Decision Tree Regressor"
      ]
    },
    {
      "cell_type": "code",
      "execution_count": 22,
      "metadata": {
        "colab": {
          "base_uri": "https://localhost:8080/"
        },
        "id": "1fHQKhOD-Wzp",
        "outputId": "95a158cb-a3ac-4777-c33f-5fad8fe18751"
      },
      "outputs": [
        {
          "name": "stdout",
          "output_type": "stream",
          "text": [
            "Decision Tree Regressor - Root Mean Squared Error (RMSE) on test data: 113.76494204439346\n"
          ]
        }
      ],
      "source": [
        "# Train and evaluate Decision Tree Regressor\n",
        "dt = DecisionTreeRegressor(featuresCol=\"features\", labelCol=\"price\")\n",
        "dt_model = dt.fit(train_data)\n",
        "dt_predictions = dt_model.transform(test_data)\n",
        "dt_rmse = evaluator.evaluate(dt_predictions)\n",
        "print(f\"Decision Tree Regressor - Root Mean Squared Error (RMSE) on test data: {dt_rmse}\")\n"
      ]
    },
    {
      "cell_type": "markdown",
      "metadata": {},
      "source": [
        "Random Forest Regressor"
      ]
    },
    {
      "cell_type": "code",
      "execution_count": 23,
      "metadata": {
        "colab": {
          "base_uri": "https://localhost:8080/"
        },
        "id": "bdsaQBrn-bpx",
        "outputId": "1e251621-c700-4c73-b082-2731bf43d4c9"
      },
      "outputs": [
        {
          "name": "stdout",
          "output_type": "stream",
          "text": [
            "Random Forest Regressor - Root Mean Squared Error (RMSE) on test data: 112.29230554900435\n"
          ]
        }
      ],
      "source": [
        "# Train and evaluate Random Forest Regressor\n",
        "rf = RandomForestRegressor(featuresCol=\"features\", labelCol=\"price\")\n",
        "rf_model = rf.fit(train_data)\n",
        "rf_predictions = rf_model.transform(test_data)\n",
        "rf_rmse = evaluator.evaluate(rf_predictions)\n",
        "print(f\"Random Forest Regressor - Root Mean Squared Error (RMSE) on test data: {rf_rmse}\")\n"
      ]
    },
    {
      "cell_type": "markdown",
      "metadata": {},
      "source": [
        "Gradient-Boosted Tree Regressor"
      ]
    },
    {
      "cell_type": "code",
      "execution_count": 24,
      "metadata": {
        "colab": {
          "base_uri": "https://localhost:8080/"
        },
        "id": "x7ubOnyr-eyx",
        "outputId": "c33dfbba-cc75-4e1a-9071-8f5ffe9331d0"
      },
      "outputs": [
        {
          "name": "stdout",
          "output_type": "stream",
          "text": [
            "Gradient-Boosted Tree Regressor - Root Mean Squared Error (RMSE) on test data: 113.482566169064\n"
          ]
        }
      ],
      "source": [
        "# Train and evaluate Gradient-Boosted Tree Regressor\n",
        "gbt = GBTRegressor(featuresCol=\"features\", labelCol=\"price\")\n",
        "gbt_model = gbt.fit(train_data)\n",
        "gbt_predictions = gbt_model.transform(test_data)\n",
        "gbt_rmse = evaluator.evaluate(gbt_predictions)\n",
        "print(f\"Gradient-Boosted Tree Regressor - Root Mean Squared Error (RMSE) on test data: {gbt_rmse}\")\n"
      ]
    },
    {
      "cell_type": "code",
      "execution_count": 25,
      "metadata": {
        "id": "xSy-h4-S_sot"
      },
      "outputs": [],
      "source": [
        "from sklearn.metrics import mean_squared_error\n",
        "import numpy as np\n"
      ]
    },
    {
      "cell_type": "code",
      "execution_count": 26,
      "metadata": {
        "id": "Mj0bVyqS_hL6"
      },
      "outputs": [],
      "source": [
        "# Extract features and labels for Scikit-Learn\n",
        "train_features = np.array(train_data.select(\"features\").collect())\n",
        "train_labels = np.array(train_data.select(\"price\").collect())\n",
        "test_features = np.array(test_data.select(\"features\").collect())\n",
        "test_labels = np.array(test_data.select(\"price\").collect())\n",
        "\n",
        "train_features = np.array([np.array(x[0]) for x in train_features])\n",
        "train_labels = np.array([x[0] for x in train_labels])\n",
        "test_features = np.array([np.array(x[0]) for x in test_features])\n",
        "test_labels = np.array([x[0] for x in test_labels])"
      ]
    },
    {
      "cell_type": "markdown",
      "metadata": {},
      "source": [
        "Support Vector Regressor"
      ]
    },
    {
      "cell_type": "code",
      "execution_count": 28,
      "metadata": {
        "colab": {
          "base_uri": "https://localhost:8080/"
        },
        "id": "_9PClFrK_mfM",
        "outputId": "4b7cf6ab-47f7-4e99-e776-e922d94d5e24"
      },
      "outputs": [
        {
          "name": "stdout",
          "output_type": "stream",
          "text": [
            "Support Vector Regressor - Root Mean Squared Error (RMSE) on test data: 125.52824819303551\n"
          ]
        },
        {
          "name": "stderr",
          "output_type": "stream",
          "text": [
            "c:\\Users\\Yehan Perera\\anaconda3\\envs\\myenv\\lib\\site-packages\\sklearn\\svm\\_base.py:1235: ConvergenceWarning: Liblinear failed to converge, increase the number of iterations.\n",
            "  warnings.warn(\n",
            "c:\\Users\\Yehan Perera\\anaconda3\\envs\\myenv\\lib\\site-packages\\sklearn\\metrics\\_regression.py:492: FutureWarning: 'squared' is deprecated in version 1.4 and will be removed in 1.6. To calculate the root mean squared error, use the function'root_mean_squared_error'.\n",
            "  warnings.warn(\n"
          ]
        }
      ],
      "source": [
        "from sklearn.svm import LinearSVR\n",
        "# Train and evaluate Support Vector Regressor\n",
        "svr = LinearSVR(max_iter=100)\n",
        "svr.fit(train_features, train_labels)\n",
        "svr_predictions = svr.predict(test_features)\n",
        "svr_rmse = mean_squared_error(test_labels, svr_predictions, squared=False)\n",
        "print(f\"Support Vector Regressor - Root Mean Squared Error (RMSE) on test data: {svr_rmse}\")\n",
        "\n"
      ]
    },
    {
      "cell_type": "code",
      "execution_count": null,
      "metadata": {
        "id": "ecbqrK48_yAF"
      },
      "outputs": [],
      "source": [
        "from pyspark.ml.regression import (\n",
        "    LinearRegression, DecisionTreeRegressor, RandomForestRegressor,\n",
        "    GBTRegressor, GeneralizedLinearRegression, IsotonicRegression\n",
        ")"
      ]
    },
    {
      "cell_type": "markdown",
      "metadata": {},
      "source": [
        "Generalized Linear Regression"
      ]
    },
    {
      "cell_type": "code",
      "execution_count": null,
      "metadata": {
        "colab": {
          "base_uri": "https://localhost:8080/"
        },
        "id": "lMrQfM2ZAQ-j",
        "outputId": "242922d9-eead-45c0-c59a-e2efee9780c9"
      },
      "outputs": [
        {
          "name": "stdout",
          "output_type": "stream",
          "text": [
            "Generalized Linear Regression - Root Mean Squared Error (RMSE) on test data: 114.20545932687672\n"
          ]
        }
      ],
      "source": [
        "# Train and evaluate Generalized Linear Regression\n",
        "glr = GeneralizedLinearRegression(featuresCol=\"features\", labelCol=\"price\", family=\"gaussian\", link=\"identity\")\n",
        "glr_model = glr.fit(train_data)\n",
        "glr_predictions = glr_model.transform(test_data)\n",
        "glr_rmse = evaluator.evaluate(glr_predictions)\n",
        "print(f\"Generalized Linear Regression - Root Mean Squared Error (RMSE) on test data: {glr_rmse}\")\n"
      ]
    },
    {
      "cell_type": "markdown",
      "metadata": {},
      "source": [
        "Isotonic Regression"
      ]
    },
    {
      "cell_type": "code",
      "execution_count": null,
      "metadata": {
        "colab": {
          "base_uri": "https://localhost:8080/"
        },
        "id": "Ma-nvRJxAamb",
        "outputId": "115008ae-b2e5-4116-e769-948412d446b6"
      },
      "outputs": [
        {
          "name": "stdout",
          "output_type": "stream",
          "text": [
            "Isotonic Regression - Root Mean Squared Error (RMSE) on test data: 122.92554791201124\n"
          ]
        }
      ],
      "source": [
        "# Train and evaluate Isotonic Regression\n",
        "iso = IsotonicRegression(featuresCol=\"features\", labelCol=\"price\")\n",
        "iso_model = iso.fit(train_data)\n",
        "iso_predictions = iso_model.transform(test_data)\n",
        "iso_rmse = evaluator.evaluate(iso_predictions)\n",
        "print(f\"Isotonic Regression - Root Mean Squared Error (RMSE) on test data: {iso_rmse}\")\n"
      ]
    },
    {
      "cell_type": "code",
      "execution_count": 43,
      "metadata": {},
      "outputs": [],
      "source": [
        "from xgboost import XGBRegressor\n",
        "from catboost import CatBoostRegressor"
      ]
    },
    {
      "cell_type": "markdown",
      "metadata": {},
      "source": [
        "XGBoost Regressor"
      ]
    },
    {
      "cell_type": "code",
      "execution_count": 45,
      "metadata": {},
      "outputs": [
        {
          "name": "stdout",
          "output_type": "stream",
          "text": [
            "XGBoost Regressor - Root Mean Squared Error (RMSE) on test data: 111.41781368154977\n"
          ]
        },
        {
          "name": "stderr",
          "output_type": "stream",
          "text": [
            "c:\\Users\\Yehan Perera\\anaconda3\\envs\\myenv\\lib\\site-packages\\sklearn\\metrics\\_regression.py:492: FutureWarning: 'squared' is deprecated in version 1.4 and will be removed in 1.6. To calculate the root mean squared error, use the function'root_mean_squared_error'.\n",
            "  warnings.warn(\n"
          ]
        }
      ],
      "source": [
        "# Train and evaluate XGBoost Regressor\n",
        "xgb = XGBRegressor(n_estimators=100, max_depth=3, learning_rate=0.1, objective='reg:squarederror')\n",
        "xgb.fit(train_features, train_labels)\n",
        "xgb_predictions = xgb.predict(test_features)\n",
        "xgb_rmse = mean_squared_error(test_labels, xgb_predictions, squared=False)\n",
        "print(f\"XGBoost Regressor - Root Mean Squared Error (RMSE) on test data: {xgb_rmse}\")"
      ]
    },
    {
      "cell_type": "markdown",
      "metadata": {},
      "source": [
        "CatBoost Regressor"
      ]
    },
    {
      "cell_type": "code",
      "execution_count": 46,
      "metadata": {},
      "outputs": [
        {
          "name": "stdout",
          "output_type": "stream",
          "text": [
            "CatBoost Regressor - Root Mean Squared Error (RMSE) on test data: 111.06339996789264\n"
          ]
        },
        {
          "name": "stderr",
          "output_type": "stream",
          "text": [
            "c:\\Users\\Yehan Perera\\anaconda3\\envs\\myenv\\lib\\site-packages\\sklearn\\metrics\\_regression.py:492: FutureWarning: 'squared' is deprecated in version 1.4 and will be removed in 1.6. To calculate the root mean squared error, use the function'root_mean_squared_error'.\n",
            "  warnings.warn(\n"
          ]
        }
      ],
      "source": [
        "# Train and evaluate CatBoost Regressor\n",
        "cat = CatBoostRegressor(iterations=100, depth=3, learning_rate=0.1, loss_function='RMSE', verbose=False)\n",
        "cat.fit(train_features, train_labels)\n",
        "cat_predictions = cat.predict(test_features)\n",
        "cat_rmse = mean_squared_error(test_labels, cat_predictions, squared=False)\n",
        "print(f\"CatBoost Regressor - Root Mean Squared Error (RMSE) on test data: {cat_rmse}\")\n"
      ]
    },
    {
      "cell_type": "markdown",
      "metadata": {},
      "source": [
        "Smallest RMSE on test data was obtained by CatBoost Regressor.(111.0634)"
      ]
    },
    {
      "cell_type": "code",
      "execution_count": 47,
      "metadata": {},
      "outputs": [],
      "source": [
        "# Stop the Spark session\n",
        "spark.stop()"
      ]
    }
  ],
  "metadata": {
    "colab": {
      "provenance": []
    },
    "kernelspec": {
      "display_name": "Python 3",
      "name": "python3"
    },
    "language_info": {
      "codemirror_mode": {
        "name": "ipython",
        "version": 3
      },
      "file_extension": ".py",
      "mimetype": "text/x-python",
      "name": "python",
      "nbconvert_exporter": "python",
      "pygments_lexer": "ipython3",
      "version": "3.9.19"
    }
  },
  "nbformat": 4,
  "nbformat_minor": 0
}
