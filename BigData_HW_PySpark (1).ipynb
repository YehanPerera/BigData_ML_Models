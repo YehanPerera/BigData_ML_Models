{
  "nbformat": 4,
  "nbformat_minor": 0,
  "metadata": {
    "colab": {
      "provenance": []
    },
    "kernelspec": {
      "name": "python3",
      "display_name": "Python 3"
    },
    "language_info": {
      "name": "python"
    }
  },
  "cells": [
    {
      "cell_type": "markdown",
      "source": [
        "# **s15525_codes**"
      ],
      "metadata": {
        "id": "bGUkI5SxiJjR"
      }
    },
    {
      "cell_type": "code",
      "execution_count": null,
      "metadata": {
        "colab": {
          "base_uri": "https://localhost:8080/"
        },
        "id": "pr08s_mg584m",
        "outputId": "1c21f204-cae5-4a77-a4f3-0ece1521ac52"
      },
      "outputs": [
        {
          "output_type": "stream",
          "name": "stdout",
          "text": [
            "Requirement already satisfied: pyspark in /usr/local/lib/python3.10/dist-packages (3.5.1)\n",
            "Requirement already satisfied: py4j==0.10.9.7 in /usr/local/lib/python3.10/dist-packages (from pyspark) (0.10.9.7)\n"
          ]
        }
      ],
      "source": [
        "!pip install pyspark"
      ]
    },
    {
      "cell_type": "code",
      "source": [
        "from pyspark.sql import SparkSession\n",
        "from pyspark.ml.regression import LinearRegression\n",
        "from pyspark.ml.feature import VectorAssembler, StringIndexer, OneHotEncoder\n",
        "from pyspark.sql.functions import col"
      ],
      "metadata": {
        "id": "2put9XHB6dgL"
      },
      "execution_count": null,
      "outputs": []
    },
    {
      "cell_type": "code",
      "source": [
        "spark = SparkSession.builder.appName(\"AirbnbPricePrediction\").getOrCreate()"
      ],
      "metadata": {
        "id": "L227b5FD6zhm"
      },
      "execution_count": null,
      "outputs": []
    },
    {
      "cell_type": "code",
      "source": [
        "# Load the Data into a Spark DataFrame\n",
        "data = spark.read.csv(\"listings.csv\", header=True, inferSchema=True)"
      ],
      "metadata": {
        "id": "ESWT0Ir-611u"
      },
      "execution_count": null,
      "outputs": []
    },
    {
      "cell_type": "code",
      "source": [
        "# Explore the Dataset\n",
        "data.printSchema()"
      ],
      "metadata": {
        "colab": {
          "base_uri": "https://localhost:8080/"
        },
        "id": "PdJS0Vah7Hym",
        "outputId": "89ff67ba-6ec1-4805-8624-e4832d6dd63a"
      },
      "execution_count": null,
      "outputs": [
        {
          "output_type": "stream",
          "name": "stdout",
          "text": [
            "root\n",
            " |-- id: string (nullable = true)\n",
            " |-- name: string (nullable = true)\n",
            " |-- host_id: string (nullable = true)\n",
            " |-- host_name: string (nullable = true)\n",
            " |-- neighbourhood_group: string (nullable = true)\n",
            " |-- neighbourhood: string (nullable = true)\n",
            " |-- latitude: string (nullable = true)\n",
            " |-- longitude: string (nullable = true)\n",
            " |-- room_type: string (nullable = true)\n",
            " |-- price: string (nullable = true)\n",
            " |-- minimum_nights: integer (nullable = true)\n",
            " |-- number_of_reviews: string (nullable = true)\n",
            " |-- last_review: string (nullable = true)\n",
            " |-- reviews_per_month: string (nullable = true)\n",
            " |-- calculated_host_listings_count: double (nullable = true)\n",
            " |-- availability_365: integer (nullable = true)\n",
            "\n"
          ]
        }
      ]
    },
    {
      "cell_type": "code",
      "source": [
        "# print a portion of data\n",
        "data.show(5)"
      ],
      "metadata": {
        "colab": {
          "base_uri": "https://localhost:8080/"
        },
        "id": "1L3vPP7p7NyC",
        "outputId": "06c3eb1f-137e-41a6-a88e-9906ad209858"
      },
      "execution_count": null,
      "outputs": [
        {
          "output_type": "stream",
          "name": "stdout",
          "text": [
            "+----+--------------------+-------+---------+-------------------+--------------+--------+----------+---------------+-----+--------------+-----------------+-----------+-----------------+------------------------------+----------------+\n",
            "|  id|                name|host_id|host_name|neighbourhood_group| neighbourhood|latitude| longitude|      room_type|price|minimum_nights|number_of_reviews|last_review|reviews_per_month|calculated_host_listings_count|availability_365|\n",
            "+----+--------------------+-------+---------+-------------------+--------------+--------+----------+---------------+-----+--------------+-----------------+-----------+-----------------+------------------------------+----------------+\n",
            "|2318|Casa Madrona - Ur...|   2536|    Megan|       Central Area|       Madrona|47.61094|-122.29286|Entire home/apt|  475|            30|               32| 2020-02-01|             0.58|                           2.0|             238|\n",
            "|6606|Fab, private seat...|  14942|    Joyce|Other neighborhoods|   Wallingford|47.65444|-122.33629|Entire home/apt|  102|             2|              153| 2021-07-12|             2.45|                           1.0|              87|\n",
            "|9419|Glorious sun room...|  30559|Angielena|Other neighborhoods|    Georgetown|47.55017|-122.31937|   Private room|   75|             2|              149| 2021-06-28|             1.12|                           9.0|             275|\n",
            "|9531|The Adorable Swee...|  31481|   Cassie|       West Seattle|Fairmount Park|47.55495|-122.38663|Entire home/apt|  165|             5|               45| 2021-05-31|             0.52|                           2.0|             276|\n",
            "|9534|The Coolest Tange...|  31481|   Cassie|       West Seattle|Fairmount Park|47.55627|-122.38607|Entire home/apt|  125|             5|               58| 2021-04-25|             0.58|                           2.0|             311|\n",
            "+----+--------------------+-------+---------+-------------------+--------------+--------+----------+---------------+-----+--------------+-----------------+-----------+-----------------+------------------------------+----------------+\n",
            "only showing top 5 rows\n",
            "\n"
          ]
        }
      ]
    },
    {
      "cell_type": "code",
      "source": [
        "data.describe().show()"
      ],
      "metadata": {
        "colab": {
          "base_uri": "https://localhost:8080/"
        },
        "id": "DcWyPEv07aRO",
        "outputId": "77d3d46a-6a45-44b9-80c3-02fb9b210eb6"
      },
      "execution_count": null,
      "outputs": [
        {
          "output_type": "stream",
          "name": "stdout",
          "text": [
            "+-------+--------------------+--------------------+--------------------+--------------------+-------------------+------------------+-----------------+-------------------+------------------+------------------+------------------+-----------------+-----------------+------------------+------------------------------+------------------+\n",
            "|summary|                  id|                name|             host_id|           host_name|neighbourhood_group|     neighbourhood|         latitude|          longitude|         room_type|             price|    minimum_nights|number_of_reviews|      last_review| reviews_per_month|calculated_host_listings_count|  availability_365|\n",
            "+-------+--------------------+--------------------+--------------------+--------------------+-------------------+------------------+-----------------+-------------------+------------------+------------------+------------------+-----------------+-----------------+------------------+------------------------------+------------------+\n",
            "|  count|                4100|                4099|                4096|                4096|               4096|              4096|             4096|               4096|              4096|              4096|              4096|             4096|             3333|              3333|                          4096|              4093|\n",
            "|   mean|3.0882329520751953E7|1.3552150733333334E8| 9.782637108748779E7|                 NaN|               NULL| 47.66262333333333|47.50065460495606|-122.29082827344756|       113.6756525|179.24004884004884|    14.95068359375|62.47813339848522|          11.3925|3.0798379351740683|            18.164479980468748|180.32641094551673|\n",
            "| stddev|1.6416382557917826E7|1.2903671270143999E8|1.1679767746686272E8|                 NaN|               NULL|0.0403117952134763|4.598638137320191| 2.6566900722168363|175.64835677721658|155.75809773574053|19.298124046605597|95.70068207997066|19.74241521023538| 4.810506760878009|            35.283040273801845| 115.6461826809035|\n",
            "|    min|  special discoun...|\"\"\"Captains Quart...| Large Balcony | ...|(Email hidden by ...|            Ballard|          47.61614|       -122.28824|         -122.24149|        -122.29739|                 1|                 1|                0|             1.01|              0.01|                           1.0|                 0|\n",
            "|    max|  Rooftop fire place|👉 2 car garage  ...|             Stephen|                Özgü|       West Seattle|    Yesler Terrace|             Mann|    Entire home/apt|       Shared room|   Entire home/apt|               365|               99|               41|              9.95|                         310.0|               365|\n",
            "+-------+--------------------+--------------------+--------------------+--------------------+-------------------+------------------+-----------------+-------------------+------------------+------------------+------------------+-----------------+-----------------+------------------+------------------------------+------------------+\n",
            "\n"
          ]
        }
      ]
    },
    {
      "cell_type": "code",
      "source": [
        "df = data.select(\"price\", \"number_of_reviews\", \"availability_365\", \"room_type\")\n",
        "df.show(5)"
      ],
      "metadata": {
        "colab": {
          "base_uri": "https://localhost:8080/"
        },
        "id": "IdKpace47m7c",
        "outputId": "368973c4-9b8d-4ffd-fe57-2b401fa59f95"
      },
      "execution_count": null,
      "outputs": [
        {
          "output_type": "stream",
          "name": "stdout",
          "text": [
            "+-----+-----------------+----------------+---------------+\n",
            "|price|number_of_reviews|availability_365|      room_type|\n",
            "+-----+-----------------+----------------+---------------+\n",
            "|  475|               32|             238|Entire home/apt|\n",
            "|  102|              153|              87|Entire home/apt|\n",
            "|   75|              149|             275|   Private room|\n",
            "|  165|               45|             276|Entire home/apt|\n",
            "|  125|               58|             311|Entire home/apt|\n",
            "+-----+-----------------+----------------+---------------+\n",
            "only showing top 5 rows\n",
            "\n"
          ]
        }
      ]
    },
    {
      "cell_type": "code",
      "source": [
        "df.describe().show()"
      ],
      "metadata": {
        "colab": {
          "base_uri": "https://localhost:8080/"
        },
        "id": "ouwc1xq_78hQ",
        "outputId": "f5a4fbc2-5317-4c08-b297-a882b92093f3"
      },
      "execution_count": null,
      "outputs": [
        {
          "output_type": "stream",
          "name": "stdout",
          "text": [
            "+-------+------------------+-----------------+------------------+------------------+\n",
            "|summary|             price|number_of_reviews|  availability_365|         room_type|\n",
            "+-------+------------------+-----------------+------------------+------------------+\n",
            "|  count|              4096|             4096|              4093|              4096|\n",
            "|   mean|179.24004884004884|62.47813339848522|180.32641094551673|       113.6756525|\n",
            "| stddev|155.75809773574053|95.70068207997066| 115.6461826809035|175.64835677721658|\n",
            "|    min|                 1|                0|                 0|        -122.29739|\n",
            "|    max|   Entire home/apt|               99|               365|       Shared room|\n",
            "+-------+------------------+-----------------+------------------+------------------+\n",
            "\n"
          ]
        }
      ]
    },
    {
      "cell_type": "code",
      "source": [
        "# drop rows with non numeric values in price variable\n",
        "df = df.filter(col(\"price\").rlike(\"^\\d+(\\.\\d+)?$\"))\n",
        "df.describe().show()"
      ],
      "metadata": {
        "colab": {
          "base_uri": "https://localhost:8080/"
        },
        "id": "DAGefPb6BiCO",
        "outputId": "6b13969f-73e9-479a-9edc-fb335ddb2879"
      },
      "execution_count": null,
      "outputs": [
        {
          "output_type": "stream",
          "name": "stdout",
          "text": [
            "+-------+------------------+-----------------+------------------+------------------+\n",
            "|summary|             price|number_of_reviews|  availability_365|         room_type|\n",
            "+-------+------------------+-----------------+------------------+------------------+\n",
            "|  count|              4095|             4095|              4092|              4095|\n",
            "|   mean|179.24004884004884|62.48607038123167|180.36168132942328|192.33333333333334|\n",
            "| stddev|155.75809773574053|95.71103055723518|115.63829715608804| 95.68873148565265|\n",
            "|    min|                 1|                0|                 0|               117|\n",
            "|    max|                99|               99|               365|       Shared room|\n",
            "+-------+------------------+-----------------+------------------+------------------+\n",
            "\n"
          ]
        }
      ]
    },
    {
      "cell_type": "code",
      "source": [
        "# exact percentage of missing values in each column\n",
        "from pyspark.sql.functions import col, count, when, isnan\n",
        "total_count = df.count()\n",
        "df.select([(count(when(isnan(c) | col(c).isNull(), c))/total_count).alias(c) for c in df.columns]).show()"
      ],
      "metadata": {
        "colab": {
          "base_uri": "https://localhost:8080/"
        },
        "id": "iRBVSdSXdJS5",
        "outputId": "7bb836d3-dfee-4520-bab5-075690e15929"
      },
      "execution_count": null,
      "outputs": [
        {
          "output_type": "stream",
          "name": "stdout",
          "text": [
            "+-----+-----------------+--------------------+---------+\n",
            "|price|number_of_reviews|    availability_365|room_type|\n",
            "+-----+-----------------+--------------------+---------+\n",
            "|  0.0|              0.0|7.326007326007326E-4|      0.0|\n",
            "+-----+-----------------+--------------------+---------+\n",
            "\n"
          ]
        }
      ]
    },
    {
      "cell_type": "code",
      "source": [
        "# drop missing values and make the datatypes correct\n",
        "df = df.dropna()\n",
        "df = df.withColumn(\"price\", col(\"price\").cast(\"int\"))\n",
        "df = df.withColumn(\"number_of_reviews\", col(\"number_of_reviews\").cast(\"int\"))\n",
        "df = df.withColumn(\"availability_365\", col(\"availability_365\").cast(\"int\"))"
      ],
      "metadata": {
        "id": "Q0vQU66t8jm9"
      },
      "execution_count": null,
      "outputs": []
    },
    {
      "cell_type": "code",
      "source": [
        "df.groupBy(\"room_type\").count().show()"
      ],
      "metadata": {
        "colab": {
          "base_uri": "https://localhost:8080/"
        },
        "id": "7EYeIEWV9YGe",
        "outputId": "2a519deb-3d0c-4f10-a5e5-f5afc0738200"
      },
      "execution_count": null,
      "outputs": [
        {
          "output_type": "stream",
          "name": "stdout",
          "text": [
            "+---------------+-----+\n",
            "|      room_type|count|\n",
            "+---------------+-----+\n",
            "|    Shared room|   41|\n",
            "|Entire home/apt| 3382|\n",
            "|   Private room|  669|\n",
            "+---------------+-----+\n",
            "\n"
          ]
        }
      ]
    },
    {
      "cell_type": "code",
      "source": [
        "# encode room_type using one hot encoding and drop the original\n",
        "indexer = StringIndexer(inputCol=\"room_type\", outputCol=\"room_type_index\")\n",
        "indexed_df = indexer.fit(df).transform(df)\n",
        "\n",
        "encoder = OneHotEncoder(inputCols=[\"room_type_index\"], outputCols=[\"room_type_vec\"], dropLast=True)\n",
        "encoded_df = encoder.fit(indexed_df).transform(indexed_df)\n",
        "encoded_df.show()"
      ],
      "metadata": {
        "colab": {
          "base_uri": "https://localhost:8080/"
        },
        "id": "0Qzhosc79swh",
        "outputId": "b6d0c689-1aa9-4b0c-cfad-06fde11c439b"
      },
      "execution_count": null,
      "outputs": [
        {
          "output_type": "stream",
          "name": "stdout",
          "text": [
            "+-----+-----------------+----------------+---------------+---------------+-------------+\n",
            "|price|number_of_reviews|availability_365|      room_type|room_type_index|room_type_vec|\n",
            "+-----+-----------------+----------------+---------------+---------------+-------------+\n",
            "|  475|               32|             238|Entire home/apt|            0.0|(2,[0],[1.0])|\n",
            "|  102|              153|              87|Entire home/apt|            0.0|(2,[0],[1.0])|\n",
            "|   75|              149|             275|   Private room|            1.0|(2,[1],[1.0])|\n",
            "|  165|               45|             276|Entire home/apt|            0.0|(2,[0],[1.0])|\n",
            "|  125|               58|             311|Entire home/apt|            0.0|(2,[0],[1.0])|\n",
            "|   88|               76|             311|Entire home/apt|            0.0|(2,[0],[1.0])|\n",
            "|   75|               43|             242|   Private room|            1.0|(2,[1],[1.0])|\n",
            "|   82|              857|              99|Entire home/apt|            0.0|(2,[0],[1.0])|\n",
            "|   67|               97|             286|Entire home/apt|            0.0|(2,[0],[1.0])|\n",
            "|   95|               28|             194|Entire home/apt|            0.0|(2,[0],[1.0])|\n",
            "|  149|                0|             123|Entire home/apt|            0.0|(2,[0],[1.0])|\n",
            "|  112|              181|             139|Entire home/apt|            0.0|(2,[0],[1.0])|\n",
            "|   75|               45|             285|Entire home/apt|            0.0|(2,[0],[1.0])|\n",
            "|  100|              143|             294|   Private room|            1.0|(2,[1],[1.0])|\n",
            "|   89|              426|             304|Entire home/apt|            0.0|(2,[0],[1.0])|\n",
            "|   75|              126|             194|Entire home/apt|            0.0|(2,[0],[1.0])|\n",
            "|  189|              307|             121|Entire home/apt|            0.0|(2,[0],[1.0])|\n",
            "|   70|              160|             300|   Private room|            1.0|(2,[1],[1.0])|\n",
            "|  300|               27|             317|Entire home/apt|            0.0|(2,[0],[1.0])|\n",
            "|   60|               75|             105|   Private room|            1.0|(2,[1],[1.0])|\n",
            "+-----+-----------------+----------------+---------------+---------------+-------------+\n",
            "only showing top 20 rows\n",
            "\n"
          ]
        }
      ]
    },
    {
      "cell_type": "code",
      "source": [
        "# drop room_type and room_type_index columns\n",
        "encoded_df = encoded_df.drop(\"room_type\")\n",
        "encoded_df = encoded_df.drop(\"room_type_index\")\n",
        "encoded_df.show()"
      ],
      "metadata": {
        "colab": {
          "base_uri": "https://localhost:8080/"
        },
        "id": "VInb9hby9-A2",
        "outputId": "6c4ae70f-d547-40e4-d535-10bc207519f0"
      },
      "execution_count": null,
      "outputs": [
        {
          "output_type": "stream",
          "name": "stdout",
          "text": [
            "+-----+-----------------+----------------+-------------+\n",
            "|price|number_of_reviews|availability_365|room_type_vec|\n",
            "+-----+-----------------+----------------+-------------+\n",
            "|  475|               32|             238|(2,[0],[1.0])|\n",
            "|  102|              153|              87|(2,[0],[1.0])|\n",
            "|   75|              149|             275|(2,[1],[1.0])|\n",
            "|  165|               45|             276|(2,[0],[1.0])|\n",
            "|  125|               58|             311|(2,[0],[1.0])|\n",
            "|   88|               76|             311|(2,[0],[1.0])|\n",
            "|   75|               43|             242|(2,[1],[1.0])|\n",
            "|   82|              857|              99|(2,[0],[1.0])|\n",
            "|   67|               97|             286|(2,[0],[1.0])|\n",
            "|   95|               28|             194|(2,[0],[1.0])|\n",
            "|  149|                0|             123|(2,[0],[1.0])|\n",
            "|  112|              181|             139|(2,[0],[1.0])|\n",
            "|   75|               45|             285|(2,[0],[1.0])|\n",
            "|  100|              143|             294|(2,[1],[1.0])|\n",
            "|   89|              426|             304|(2,[0],[1.0])|\n",
            "|   75|              126|             194|(2,[0],[1.0])|\n",
            "|  189|              307|             121|(2,[0],[1.0])|\n",
            "|   70|              160|             300|(2,[1],[1.0])|\n",
            "|  300|               27|             317|(2,[0],[1.0])|\n",
            "|   60|               75|             105|(2,[1],[1.0])|\n",
            "+-----+-----------------+----------------+-------------+\n",
            "only showing top 20 rows\n",
            "\n"
          ]
        }
      ]
    },
    {
      "cell_type": "code",
      "source": [
        "# remove duplicate observations\n",
        "encoded_df = encoded_df.dropDuplicates()"
      ],
      "metadata": {
        "id": "eQdCFPhcAsxX"
      },
      "execution_count": null,
      "outputs": []
    },
    {
      "cell_type": "code",
      "source": [
        "encoded_df.show()"
      ],
      "metadata": {
        "colab": {
          "base_uri": "https://localhost:8080/"
        },
        "id": "Sr_altyGA9qG",
        "outputId": "ca69f6bc-8477-48ab-d18e-ccdaad455004"
      },
      "execution_count": null,
      "outputs": [
        {
          "output_type": "stream",
          "name": "stdout",
          "text": [
            "+-----+-----------------+----------------+-------------+\n",
            "|price|number_of_reviews|availability_365|room_type_vec|\n",
            "+-----+-----------------+----------------+-------------+\n",
            "|  321|               83|              37|(2,[0],[1.0])|\n",
            "|  224|              118|             219|(2,[0],[1.0])|\n",
            "|  138|               93|             122|(2,[0],[1.0])|\n",
            "|   79|              117|             257|(2,[0],[1.0])|\n",
            "|  110|              227|               4|(2,[0],[1.0])|\n",
            "|  204|              266|             141|(2,[0],[1.0])|\n",
            "|  229|              230|             251|(2,[0],[1.0])|\n",
            "|   85|                4|             365|(2,[1],[1.0])|\n",
            "|   70|                3|             263|(2,[0],[1.0])|\n",
            "|  199|               53|             180|(2,[0],[1.0])|\n",
            "|  147|               13|             315|(2,[0],[1.0])|\n",
            "|  130|               57|             262|(2,[0],[1.0])|\n",
            "|  135|              134|             265|(2,[0],[1.0])|\n",
            "|  140|               62|              26|(2,[0],[1.0])|\n",
            "|  112|                0|             317|(2,[0],[1.0])|\n",
            "|  182|               20|              91|(2,[0],[1.0])|\n",
            "|  175|                7|              42|(2,[0],[1.0])|\n",
            "|  354|                0|             138|(2,[0],[1.0])|\n",
            "|  136|                3|              16|(2,[0],[1.0])|\n",
            "|  377|                0|             127|(2,[0],[1.0])|\n",
            "+-----+-----------------+----------------+-------------+\n",
            "only showing top 20 rows\n",
            "\n"
          ]
        }
      ]
    },
    {
      "cell_type": "code",
      "source": [
        "# Assemble features into a single vector\n",
        "assembler = VectorAssembler(inputCols=[\"number_of_reviews\", \"availability_365\", \"room_type_vec\"], outputCol=\"features\")\n",
        "df_final = assembler.transform(encoded_df).select(\"features\", \"price\")"
      ],
      "metadata": {
        "id": "HcXLLidwIFqX"
      },
      "execution_count": null,
      "outputs": []
    },
    {
      "cell_type": "code",
      "source": [
        "# split the df_new into training and testing to predict the price\n",
        "train_data, test_data = df_final.randomSplit([0.8, 0.2], seed=42)"
      ],
      "metadata": {
        "id": "_xGyQle_BBjQ"
      },
      "execution_count": null,
      "outputs": []
    },
    {
      "cell_type": "markdown",
      "source": [
        "# **Fit several models, evaluate them and find the best one**"
      ],
      "metadata": {
        "id": "MSsTxTQlZU7Z"
      }
    },
    {
      "cell_type": "code",
      "source": [
        "from pyspark.ml.regression import (LinearRegression, DecisionTreeRegressor, RandomForestRegressor, GBTRegressor, GeneralizedLinearRegression)\n",
        "from pyspark.ml.evaluation import RegressionEvaluator\n",
        "from xgboost.spark import SparkXGBRegressor"
      ],
      "metadata": {
        "id": "rwNCaHn6XD0Y"
      },
      "execution_count": null,
      "outputs": []
    },
    {
      "cell_type": "code",
      "source": [
        "# Initialize models\n",
        "models = [\n",
        "    (\"Linear Regression\", LinearRegression(featuresCol='features', labelCol='price')),\n",
        "    (\"Decision Tree\", DecisionTreeRegressor(featuresCol='features', labelCol='price')),\n",
        "    (\"Random Forest\", RandomForestRegressor(featuresCol='features', labelCol='price')),\n",
        "    (\"Gradient-Boosted Tree\", GBTRegressor(featuresCol='features', labelCol='price')),\n",
        "    (\"Generalized Linear Regression\", GeneralizedLinearRegression(featuresCol='features', labelCol='price')),\n",
        "    (\"XGBoost Regressor\", SparkXGBRegressor(features_col='features', label_col='price'))\n",
        "    ]"
      ],
      "metadata": {
        "id": "eDoCKzSfZm-w"
      },
      "execution_count": null,
      "outputs": []
    },
    {
      "cell_type": "code",
      "source": [
        "# Fit models and make predictions\n",
        "results = []\n",
        "for name, model in models:\n",
        "    fitted_model = model.fit(train_data)\n",
        "    predictions = fitted_model.transform(test_data)\n",
        "    results.append((name, predictions))"
      ],
      "metadata": {
        "colab": {
          "base_uri": "https://localhost:8080/"
        },
        "id": "gtRf1QVkbDZd",
        "outputId": "56f2d6bd-6cca-437c-b454-bc855e8d4178"
      },
      "execution_count": null,
      "outputs": [
        {
          "output_type": "stream",
          "name": "stderr",
          "text": [
            "INFO:XGBoost-PySpark:Running xgboost-2.1.1 on 1 workers with\n",
            "\tbooster params: {'objective': 'reg:squarederror', 'device': 'cpu', 'nthread': 1}\n",
            "\ttrain_call_kwargs_params: {'verbose_eval': True, 'num_boost_round': 100}\n",
            "\tdmatrix_kwargs: {'nthread': 1, 'missing': nan}\n",
            "INFO:XGBoost-PySpark:Finished xgboost training!\n"
          ]
        }
      ]
    },
    {
      "cell_type": "code",
      "source": [
        "# Initialize evaluator\n",
        "evaluator = RegressionEvaluator(labelCol='price', predictionCol='prediction')\n",
        "\n",
        "# Evaluate models\n",
        "metrics = []\n",
        "for name, predictions in results:\n",
        "    rmse = evaluator.evaluate(predictions, {evaluator.metricName: 'rmse'})\n",
        "    r2 = evaluator.evaluate(predictions, {evaluator.metricName: 'r2'})\n",
        "    metrics.append((name, rmse, r2))"
      ],
      "metadata": {
        "id": "-fYLP_ILbNK4"
      },
      "execution_count": null,
      "outputs": []
    },
    {
      "cell_type": "code",
      "source": [
        "# print results\n",
        "import pandas as pd\n",
        "metrics_df = pd.DataFrame(metrics, columns=['Model', 'RMSE', 'R2'])\n",
        "metrics_df"
      ],
      "metadata": {
        "colab": {
          "base_uri": "https://localhost:8080/",
          "height": 238
        },
        "id": "PKZmv_x-bjy-",
        "outputId": "19568452-6ebe-4a3f-b622-cdadf839ac4e"
      },
      "execution_count": null,
      "outputs": [
        {
          "output_type": "execute_result",
          "data": {
            "text/plain": [
              "                           Model   RMSE    R2\n",
              "0              Linear Regression 139.10  0.12\n",
              "1                  Decision Tree 138.33  0.13\n",
              "2                  Random Forest 137.57  0.14\n",
              "3          Gradient-Boosted Tree 139.26  0.12\n",
              "4  Generalized Linear Regression 139.10  0.12\n",
              "5              XGBoost Regressor 179.18 -0.46"
            ],
            "text/html": [
              "\n",
              "  <div id=\"df-85b43d12-d908-4ce0-a564-9472e115dfe3\" class=\"colab-df-container\">\n",
              "    <div>\n",
              "<style scoped>\n",
              "    .dataframe tbody tr th:only-of-type {\n",
              "        vertical-align: middle;\n",
              "    }\n",
              "\n",
              "    .dataframe tbody tr th {\n",
              "        vertical-align: top;\n",
              "    }\n",
              "\n",
              "    .dataframe thead th {\n",
              "        text-align: right;\n",
              "    }\n",
              "</style>\n",
              "<table border=\"1\" class=\"dataframe\">\n",
              "  <thead>\n",
              "    <tr style=\"text-align: right;\">\n",
              "      <th></th>\n",
              "      <th>Model</th>\n",
              "      <th>RMSE</th>\n",
              "      <th>R2</th>\n",
              "    </tr>\n",
              "  </thead>\n",
              "  <tbody>\n",
              "    <tr>\n",
              "      <th>0</th>\n",
              "      <td>Linear Regression</td>\n",
              "      <td>139.10</td>\n",
              "      <td>0.12</td>\n",
              "    </tr>\n",
              "    <tr>\n",
              "      <th>1</th>\n",
              "      <td>Decision Tree</td>\n",
              "      <td>138.33</td>\n",
              "      <td>0.13</td>\n",
              "    </tr>\n",
              "    <tr>\n",
              "      <th>2</th>\n",
              "      <td>Random Forest</td>\n",
              "      <td>137.57</td>\n",
              "      <td>0.14</td>\n",
              "    </tr>\n",
              "    <tr>\n",
              "      <th>3</th>\n",
              "      <td>Gradient-Boosted Tree</td>\n",
              "      <td>139.26</td>\n",
              "      <td>0.12</td>\n",
              "    </tr>\n",
              "    <tr>\n",
              "      <th>4</th>\n",
              "      <td>Generalized Linear Regression</td>\n",
              "      <td>139.10</td>\n",
              "      <td>0.12</td>\n",
              "    </tr>\n",
              "    <tr>\n",
              "      <th>5</th>\n",
              "      <td>XGBoost Regressor</td>\n",
              "      <td>179.18</td>\n",
              "      <td>-0.46</td>\n",
              "    </tr>\n",
              "  </tbody>\n",
              "</table>\n",
              "</div>\n",
              "    <div class=\"colab-df-buttons\">\n",
              "\n",
              "  <div class=\"colab-df-container\">\n",
              "    <button class=\"colab-df-convert\" onclick=\"convertToInteractive('df-85b43d12-d908-4ce0-a564-9472e115dfe3')\"\n",
              "            title=\"Convert this dataframe to an interactive table.\"\n",
              "            style=\"display:none;\">\n",
              "\n",
              "  <svg xmlns=\"http://www.w3.org/2000/svg\" height=\"24px\" viewBox=\"0 -960 960 960\">\n",
              "    <path d=\"M120-120v-720h720v720H120Zm60-500h600v-160H180v160Zm220 220h160v-160H400v160Zm0 220h160v-160H400v160ZM180-400h160v-160H180v160Zm440 0h160v-160H620v160ZM180-180h160v-160H180v160Zm440 0h160v-160H620v160Z\"/>\n",
              "  </svg>\n",
              "    </button>\n",
              "\n",
              "  <style>\n",
              "    .colab-df-container {\n",
              "      display:flex;\n",
              "      gap: 12px;\n",
              "    }\n",
              "\n",
              "    .colab-df-convert {\n",
              "      background-color: #E8F0FE;\n",
              "      border: none;\n",
              "      border-radius: 50%;\n",
              "      cursor: pointer;\n",
              "      display: none;\n",
              "      fill: #1967D2;\n",
              "      height: 32px;\n",
              "      padding: 0 0 0 0;\n",
              "      width: 32px;\n",
              "    }\n",
              "\n",
              "    .colab-df-convert:hover {\n",
              "      background-color: #E2EBFA;\n",
              "      box-shadow: 0px 1px 2px rgba(60, 64, 67, 0.3), 0px 1px 3px 1px rgba(60, 64, 67, 0.15);\n",
              "      fill: #174EA6;\n",
              "    }\n",
              "\n",
              "    .colab-df-buttons div {\n",
              "      margin-bottom: 4px;\n",
              "    }\n",
              "\n",
              "    [theme=dark] .colab-df-convert {\n",
              "      background-color: #3B4455;\n",
              "      fill: #D2E3FC;\n",
              "    }\n",
              "\n",
              "    [theme=dark] .colab-df-convert:hover {\n",
              "      background-color: #434B5C;\n",
              "      box-shadow: 0px 1px 3px 1px rgba(0, 0, 0, 0.15);\n",
              "      filter: drop-shadow(0px 1px 2px rgba(0, 0, 0, 0.3));\n",
              "      fill: #FFFFFF;\n",
              "    }\n",
              "  </style>\n",
              "\n",
              "    <script>\n",
              "      const buttonEl =\n",
              "        document.querySelector('#df-85b43d12-d908-4ce0-a564-9472e115dfe3 button.colab-df-convert');\n",
              "      buttonEl.style.display =\n",
              "        google.colab.kernel.accessAllowed ? 'block' : 'none';\n",
              "\n",
              "      async function convertToInteractive(key) {\n",
              "        const element = document.querySelector('#df-85b43d12-d908-4ce0-a564-9472e115dfe3');\n",
              "        const dataTable =\n",
              "          await google.colab.kernel.invokeFunction('convertToInteractive',\n",
              "                                                    [key], {});\n",
              "        if (!dataTable) return;\n",
              "\n",
              "        const docLinkHtml = 'Like what you see? Visit the ' +\n",
              "          '<a target=\"_blank\" href=https://colab.research.google.com/notebooks/data_table.ipynb>data table notebook</a>'\n",
              "          + ' to learn more about interactive tables.';\n",
              "        element.innerHTML = '';\n",
              "        dataTable['output_type'] = 'display_data';\n",
              "        await google.colab.output.renderOutput(dataTable, element);\n",
              "        const docLink = document.createElement('div');\n",
              "        docLink.innerHTML = docLinkHtml;\n",
              "        element.appendChild(docLink);\n",
              "      }\n",
              "    </script>\n",
              "  </div>\n",
              "\n",
              "\n",
              "<div id=\"df-8bdfd3e2-4db9-4625-92f2-d2b6442430c4\">\n",
              "  <button class=\"colab-df-quickchart\" onclick=\"quickchart('df-8bdfd3e2-4db9-4625-92f2-d2b6442430c4')\"\n",
              "            title=\"Suggest charts\"\n",
              "            style=\"display:none;\">\n",
              "\n",
              "<svg xmlns=\"http://www.w3.org/2000/svg\" height=\"24px\"viewBox=\"0 0 24 24\"\n",
              "     width=\"24px\">\n",
              "    <g>\n",
              "        <path d=\"M19 3H5c-1.1 0-2 .9-2 2v14c0 1.1.9 2 2 2h14c1.1 0 2-.9 2-2V5c0-1.1-.9-2-2-2zM9 17H7v-7h2v7zm4 0h-2V7h2v10zm4 0h-2v-4h2v4z\"/>\n",
              "    </g>\n",
              "</svg>\n",
              "  </button>\n",
              "\n",
              "<style>\n",
              "  .colab-df-quickchart {\n",
              "      --bg-color: #E8F0FE;\n",
              "      --fill-color: #1967D2;\n",
              "      --hover-bg-color: #E2EBFA;\n",
              "      --hover-fill-color: #174EA6;\n",
              "      --disabled-fill-color: #AAA;\n",
              "      --disabled-bg-color: #DDD;\n",
              "  }\n",
              "\n",
              "  [theme=dark] .colab-df-quickchart {\n",
              "      --bg-color: #3B4455;\n",
              "      --fill-color: #D2E3FC;\n",
              "      --hover-bg-color: #434B5C;\n",
              "      --hover-fill-color: #FFFFFF;\n",
              "      --disabled-bg-color: #3B4455;\n",
              "      --disabled-fill-color: #666;\n",
              "  }\n",
              "\n",
              "  .colab-df-quickchart {\n",
              "    background-color: var(--bg-color);\n",
              "    border: none;\n",
              "    border-radius: 50%;\n",
              "    cursor: pointer;\n",
              "    display: none;\n",
              "    fill: var(--fill-color);\n",
              "    height: 32px;\n",
              "    padding: 0;\n",
              "    width: 32px;\n",
              "  }\n",
              "\n",
              "  .colab-df-quickchart:hover {\n",
              "    background-color: var(--hover-bg-color);\n",
              "    box-shadow: 0 1px 2px rgba(60, 64, 67, 0.3), 0 1px 3px 1px rgba(60, 64, 67, 0.15);\n",
              "    fill: var(--button-hover-fill-color);\n",
              "  }\n",
              "\n",
              "  .colab-df-quickchart-complete:disabled,\n",
              "  .colab-df-quickchart-complete:disabled:hover {\n",
              "    background-color: var(--disabled-bg-color);\n",
              "    fill: var(--disabled-fill-color);\n",
              "    box-shadow: none;\n",
              "  }\n",
              "\n",
              "  .colab-df-spinner {\n",
              "    border: 2px solid var(--fill-color);\n",
              "    border-color: transparent;\n",
              "    border-bottom-color: var(--fill-color);\n",
              "    animation:\n",
              "      spin 1s steps(1) infinite;\n",
              "  }\n",
              "\n",
              "  @keyframes spin {\n",
              "    0% {\n",
              "      border-color: transparent;\n",
              "      border-bottom-color: var(--fill-color);\n",
              "      border-left-color: var(--fill-color);\n",
              "    }\n",
              "    20% {\n",
              "      border-color: transparent;\n",
              "      border-left-color: var(--fill-color);\n",
              "      border-top-color: var(--fill-color);\n",
              "    }\n",
              "    30% {\n",
              "      border-color: transparent;\n",
              "      border-left-color: var(--fill-color);\n",
              "      border-top-color: var(--fill-color);\n",
              "      border-right-color: var(--fill-color);\n",
              "    }\n",
              "    40% {\n",
              "      border-color: transparent;\n",
              "      border-right-color: var(--fill-color);\n",
              "      border-top-color: var(--fill-color);\n",
              "    }\n",
              "    60% {\n",
              "      border-color: transparent;\n",
              "      border-right-color: var(--fill-color);\n",
              "    }\n",
              "    80% {\n",
              "      border-color: transparent;\n",
              "      border-right-color: var(--fill-color);\n",
              "      border-bottom-color: var(--fill-color);\n",
              "    }\n",
              "    90% {\n",
              "      border-color: transparent;\n",
              "      border-bottom-color: var(--fill-color);\n",
              "    }\n",
              "  }\n",
              "</style>\n",
              "\n",
              "  <script>\n",
              "    async function quickchart(key) {\n",
              "      const quickchartButtonEl =\n",
              "        document.querySelector('#' + key + ' button');\n",
              "      quickchartButtonEl.disabled = true;  // To prevent multiple clicks.\n",
              "      quickchartButtonEl.classList.add('colab-df-spinner');\n",
              "      try {\n",
              "        const charts = await google.colab.kernel.invokeFunction(\n",
              "            'suggestCharts', [key], {});\n",
              "      } catch (error) {\n",
              "        console.error('Error during call to suggestCharts:', error);\n",
              "      }\n",
              "      quickchartButtonEl.classList.remove('colab-df-spinner');\n",
              "      quickchartButtonEl.classList.add('colab-df-quickchart-complete');\n",
              "    }\n",
              "    (() => {\n",
              "      let quickchartButtonEl =\n",
              "        document.querySelector('#df-8bdfd3e2-4db9-4625-92f2-d2b6442430c4 button');\n",
              "      quickchartButtonEl.style.display =\n",
              "        google.colab.kernel.accessAllowed ? 'block' : 'none';\n",
              "    })();\n",
              "  </script>\n",
              "</div>\n",
              "\n",
              "  <div id=\"id_87e30e27-bfee-468e-a783-c91aa6a49562\">\n",
              "    <style>\n",
              "      .colab-df-generate {\n",
              "        background-color: #E8F0FE;\n",
              "        border: none;\n",
              "        border-radius: 50%;\n",
              "        cursor: pointer;\n",
              "        display: none;\n",
              "        fill: #1967D2;\n",
              "        height: 32px;\n",
              "        padding: 0 0 0 0;\n",
              "        width: 32px;\n",
              "      }\n",
              "\n",
              "      .colab-df-generate:hover {\n",
              "        background-color: #E2EBFA;\n",
              "        box-shadow: 0px 1px 2px rgba(60, 64, 67, 0.3), 0px 1px 3px 1px rgba(60, 64, 67, 0.15);\n",
              "        fill: #174EA6;\n",
              "      }\n",
              "\n",
              "      [theme=dark] .colab-df-generate {\n",
              "        background-color: #3B4455;\n",
              "        fill: #D2E3FC;\n",
              "      }\n",
              "\n",
              "      [theme=dark] .colab-df-generate:hover {\n",
              "        background-color: #434B5C;\n",
              "        box-shadow: 0px 1px 3px 1px rgba(0, 0, 0, 0.15);\n",
              "        filter: drop-shadow(0px 1px 2px rgba(0, 0, 0, 0.3));\n",
              "        fill: #FFFFFF;\n",
              "      }\n",
              "    </style>\n",
              "    <button class=\"colab-df-generate\" onclick=\"generateWithVariable('metrics_df')\"\n",
              "            title=\"Generate code using this dataframe.\"\n",
              "            style=\"display:none;\">\n",
              "\n",
              "  <svg xmlns=\"http://www.w3.org/2000/svg\" height=\"24px\"viewBox=\"0 0 24 24\"\n",
              "       width=\"24px\">\n",
              "    <path d=\"M7,19H8.4L18.45,9,17,7.55,7,17.6ZM5,21V16.75L18.45,3.32a2,2,0,0,1,2.83,0l1.4,1.43a1.91,1.91,0,0,1,.58,1.4,1.91,1.91,0,0,1-.58,1.4L9.25,21ZM18.45,9,17,7.55Zm-12,3A5.31,5.31,0,0,0,4.9,8.1,5.31,5.31,0,0,0,1,6.5,5.31,5.31,0,0,0,4.9,4.9,5.31,5.31,0,0,0,6.5,1,5.31,5.31,0,0,0,8.1,4.9,5.31,5.31,0,0,0,12,6.5,5.46,5.46,0,0,0,6.5,12Z\"/>\n",
              "  </svg>\n",
              "    </button>\n",
              "    <script>\n",
              "      (() => {\n",
              "      const buttonEl =\n",
              "        document.querySelector('#id_87e30e27-bfee-468e-a783-c91aa6a49562 button.colab-df-generate');\n",
              "      buttonEl.style.display =\n",
              "        google.colab.kernel.accessAllowed ? 'block' : 'none';\n",
              "\n",
              "      buttonEl.onclick = () => {\n",
              "        google.colab.notebook.generateWithVariable('metrics_df');\n",
              "      }\n",
              "      })();\n",
              "    </script>\n",
              "  </div>\n",
              "\n",
              "    </div>\n",
              "  </div>\n"
            ],
            "application/vnd.google.colaboratory.intrinsic+json": {
              "type": "dataframe",
              "variable_name": "metrics_df",
              "summary": "{\n  \"name\": \"metrics_df\",\n  \"rows\": 6,\n  \"fields\": [\n    {\n      \"column\": \"Model\",\n      \"properties\": {\n        \"dtype\": \"string\",\n        \"num_unique_values\": 6,\n        \"samples\": [\n          \"Linear Regression\",\n          \"Decision Tree\",\n          \"XGBoost Regressor\"\n        ],\n        \"semantic_type\": \"\",\n        \"description\": \"\"\n      }\n    },\n    {\n      \"column\": \"RMSE\",\n      \"properties\": {\n        \"dtype\": \"number\",\n        \"std\": 16.551537975926184,\n        \"min\": 137.56727537208025,\n        \"max\": 179.18332847207157,\n        \"num_unique_values\": 5,\n        \"samples\": [\n          138.3281624021867,\n          179.18332847207157,\n          137.56727537208025\n        ],\n        \"semantic_type\": \"\",\n        \"description\": \"\"\n      }\n    },\n    {\n      \"column\": \"R2\",\n      \"properties\": {\n        \"dtype\": \"number\",\n        \"std\": 0.23870055373130986,\n        \"min\": -0.4570505379425296,\n        \"max\": 0.1411650930272612,\n        \"num_unique_values\": 5,\n        \"samples\": [\n          0.13163835733317275,\n          -0.4570505379425296,\n          0.1411650930272612\n        ],\n        \"semantic_type\": \"\",\n        \"description\": \"\"\n      }\n    }\n  ]\n}"
            }
          },
          "metadata": {},
          "execution_count": 224
        }
      ]
    },
    {
      "cell_type": "code",
      "source": [
        "# the best model\n",
        "best_model = min(metrics, key=lambda x: x[1])\n",
        "print(f\"The best model is {best_model[0]} with RMSE = {best_model[1]} and R^2 = {best_model[2]}\")"
      ],
      "metadata": {
        "colab": {
          "base_uri": "https://localhost:8080/"
        },
        "id": "5Pn7mfjSbqxS",
        "outputId": "9fbc3e6a-ded4-4087-da3a-829d7e87e43a"
      },
      "execution_count": null,
      "outputs": [
        {
          "output_type": "stream",
          "name": "stdout",
          "text": [
            "The best model is Random Forest with RMSE = 137.56727537208025 and R^2 = 0.1411650930272612\n"
          ]
        }
      ]
    },
    {
      "cell_type": "code",
      "source": [],
      "metadata": {
        "id": "op8_Kkfeb6-y"
      },
      "execution_count": null,
      "outputs": []
    }
  ]
}